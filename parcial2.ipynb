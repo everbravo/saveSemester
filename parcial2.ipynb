{
 "cells": [
  {
   "cell_type": "markdown",
   "source": [
    "# Parcial de Inteligencia Artificial\n",
    "## EDA Vilencia intrafamiliar"
   ],
   "metadata": {}
  },
  {
   "cell_type": "markdown",
   "source": [
    "### primera etapa; Carga de datos y primeros vistasos"
   ],
   "metadata": {}
  },
  {
   "cell_type": "code",
   "execution_count": 1,
   "source": [
    "import pandas as pd\n",
    "import numpy as np\n",
    "import matplotlib.pyplot as plt\n",
    "import seaborn as sns\n",
    "sns.set()\n",
    "%matplotlib inline"
   ],
   "outputs": [],
   "metadata": {}
  },
  {
   "cell_type": "code",
   "execution_count": 27,
   "source": [
    "# Cargar datos\n",
    "vfamily = pd.read_csv(\"Reporte_Delito_Violencia_Intrafamiliar_Polic_a_Nacional.csv\", nrows=100000)\n",
    "\n",
    "# Primer vistaso a los datos\n",
    "vfamily.head(3)"
   ],
   "outputs": [
    {
     "output_type": "execute_result",
     "data": {
      "text/html": [
       "<div>\n",
       "<style scoped>\n",
       "    .dataframe tbody tr th:only-of-type {\n",
       "        vertical-align: middle;\n",
       "    }\n",
       "\n",
       "    .dataframe tbody tr th {\n",
       "        vertical-align: top;\n",
       "    }\n",
       "\n",
       "    .dataframe thead th {\n",
       "        text-align: right;\n",
       "    }\n",
       "</style>\n",
       "<table border=\"1\" class=\"dataframe\">\n",
       "  <thead>\n",
       "    <tr style=\"text-align: right;\">\n",
       "      <th></th>\n",
       "      <th>DEPARTAMENTO</th>\n",
       "      <th>MUNICIPIO</th>\n",
       "      <th>CODIGO DANE</th>\n",
       "      <th>ARMAS MEDIOS</th>\n",
       "      <th>FECHA HECHO</th>\n",
       "      <th>GENERO</th>\n",
       "      <th>GRUPO ETARIO</th>\n",
       "      <th>CANTIDAD</th>\n",
       "    </tr>\n",
       "  </thead>\n",
       "  <tbody>\n",
       "    <tr>\n",
       "      <th>0</th>\n",
       "      <td>ATLÁNTICO</td>\n",
       "      <td>BARRANQUILLA (CT)</td>\n",
       "      <td>8001000</td>\n",
       "      <td>ARMA BLANCA / CORTOPUNZANTE</td>\n",
       "      <td>1/01/2010</td>\n",
       "      <td>MASCULINO</td>\n",
       "      <td>ADULTOS</td>\n",
       "      <td>1</td>\n",
       "    </tr>\n",
       "    <tr>\n",
       "      <th>1</th>\n",
       "      <td>BOYACÁ</td>\n",
       "      <td>DUITAMA</td>\n",
       "      <td>15238000</td>\n",
       "      <td>ARMA BLANCA / CORTOPUNZANTE</td>\n",
       "      <td>1/01/2010</td>\n",
       "      <td>FEMENINO</td>\n",
       "      <td>ADULTOS</td>\n",
       "      <td>1</td>\n",
       "    </tr>\n",
       "    <tr>\n",
       "      <th>2</th>\n",
       "      <td>CAQUETÁ</td>\n",
       "      <td>PUERTO RICO</td>\n",
       "      <td>18592000</td>\n",
       "      <td>ARMA BLANCA / CORTOPUNZANTE</td>\n",
       "      <td>1/01/2010</td>\n",
       "      <td>MASCULINO</td>\n",
       "      <td>ADULTOS</td>\n",
       "      <td>1</td>\n",
       "    </tr>\n",
       "  </tbody>\n",
       "</table>\n",
       "</div>"
      ],
      "text/plain": [
       "  DEPARTAMENTO          MUNICIPIO  CODIGO DANE                 ARMAS MEDIOS  \\\n",
       "0    ATLÁNTICO  BARRANQUILLA (CT)      8001000  ARMA BLANCA / CORTOPUNZANTE   \n",
       "1       BOYACÁ            DUITAMA     15238000  ARMA BLANCA / CORTOPUNZANTE   \n",
       "2      CAQUETÁ        PUERTO RICO     18592000  ARMA BLANCA / CORTOPUNZANTE   \n",
       "\n",
       "  FECHA HECHO     GENERO GRUPO ETARIO  CANTIDAD  \n",
       "0   1/01/2010  MASCULINO      ADULTOS         1  \n",
       "1   1/01/2010   FEMENINO      ADULTOS         1  \n",
       "2   1/01/2010  MASCULINO      ADULTOS         1  "
      ]
     },
     "metadata": {},
     "execution_count": 27
    }
   ],
   "metadata": {}
  },
  {
   "cell_type": "code",
   "execution_count": 28,
   "source": [
    "# Conocer caracteristicas relevantes\n",
    "print(\"Tamaño del dataset: \", vfamily.shape)"
   ],
   "outputs": [
    {
     "output_type": "stream",
     "name": "stdout",
     "text": [
      "Tamaño del dataset:  (100000, 8)\n"
     ]
    }
   ],
   "metadata": {}
  },
  {
   "cell_type": "code",
   "execution_count": 29,
   "source": [
    "print(\"indexacion del dataset: \", vfamily.index)"
   ],
   "outputs": [
    {
     "output_type": "stream",
     "name": "stdout",
     "text": [
      "indexacion del dataset:  RangeIndex(start=0, stop=100000, step=1)\n"
     ]
    }
   ],
   "metadata": {}
  },
  {
   "cell_type": "code",
   "execution_count": 30,
   "source": [
    "print(\"Informacion relevante acerca del dataset: \") \n",
    "vfamily.info()"
   ],
   "outputs": [
    {
     "output_type": "stream",
     "name": "stdout",
     "text": [
      "Informacion relevante acerca del dataset: \n",
      "<class 'pandas.core.frame.DataFrame'>\n",
      "RangeIndex: 100000 entries, 0 to 99999\n",
      "Data columns (total 8 columns):\n",
      " #   Column        Non-Null Count   Dtype \n",
      "---  ------        --------------   ----- \n",
      " 0   DEPARTAMENTO  100000 non-null  object\n",
      " 1   MUNICIPIO     100000 non-null  object\n",
      " 2   CODIGO DANE   100000 non-null  int64 \n",
      " 3   ARMAS MEDIOS  100000 non-null  object\n",
      " 4   FECHA HECHO   100000 non-null  object\n",
      " 5   GENERO        100000 non-null  object\n",
      " 6   GRUPO ETARIO  100000 non-null  object\n",
      " 7   CANTIDAD      100000 non-null  int64 \n",
      "dtypes: int64(2), object(6)\n",
      "memory usage: 6.1+ MB\n"
     ]
    }
   ],
   "metadata": {}
  },
  {
   "cell_type": "code",
   "execution_count": 31,
   "source": [
    "print(\"Media del dataset: \", vfamily.mean())"
   ],
   "outputs": [
    {
     "output_type": "stream",
     "name": "stdout",
     "text": [
      "Media del dataset:  CODIGO DANE    4.504176e+07\n",
      "CANTIDAD       1.564790e+00\n",
      "dtype: float64\n"
     ]
    }
   ],
   "metadata": {}
  },
  {
   "cell_type": "code",
   "execution_count": 32,
   "source": [
    "print(\"Mediana del dataset: \", vfamily.median())"
   ],
   "outputs": [
    {
     "output_type": "stream",
     "name": "stdout",
     "text": [
      "Mediana del dataset:  CODIGO DANE    50006000.0\n",
      "CANTIDAD              1.0\n",
      "dtype: float64\n"
     ]
    }
   ],
   "metadata": {}
  },
  {
   "cell_type": "code",
   "execution_count": 33,
   "source": [
    "print(\"Desviacion estandar del dataset: \", vfamily.std())"
   ],
   "outputs": [
    {
     "output_type": "stream",
     "name": "stdout",
     "text": [
      "Desviacion estandar del dataset:  CODIGO DANE    2.753276e+07\n",
      "CANTIDAD       1.672331e+00\n",
      "dtype: float64\n"
     ]
    }
   ],
   "metadata": {}
  },
  {
   "cell_type": "code",
   "execution_count": 34,
   "source": [
    "# Convertir datos tipo object a date\n",
    "from datetime import datetime\n",
    "vfamily[\"FECHA HECHO\"] = vfamily[\"FECHA HECHO\"].apply(lambda x: datetime.strptime(x, \"%d/%m/%Y\"))\n",
    "vfamily[\"FECHA HECHO\"].dtype"
   ],
   "outputs": [
    {
     "output_type": "execute_result",
     "data": {
      "text/plain": [
       "dtype('<M8[ns]')"
      ]
     },
     "metadata": {},
     "execution_count": 34
    }
   ],
   "metadata": {}
  },
  {
   "cell_type": "code",
   "execution_count": 35,
   "source": [
    "# Verificar si existen datos faltantes\n",
    "vfamily.isna().sum()"
   ],
   "outputs": [
    {
     "output_type": "execute_result",
     "data": {
      "text/plain": [
       "DEPARTAMENTO    0\n",
       "MUNICIPIO       0\n",
       "CODIGO DANE     0\n",
       "ARMAS MEDIOS    0\n",
       "FECHA HECHO     0\n",
       "GENERO          0\n",
       "GRUPO ETARIO    0\n",
       "CANTIDAD        0\n",
       "dtype: int64"
      ]
     },
     "metadata": {},
     "execution_count": 35
    }
   ],
   "metadata": {}
  },
  {
   "cell_type": "code",
   "execution_count": 36,
   "source": [
    "# Crear nueva columna AÑO\n",
    "vfamily[\"AÑO\"] = vfamily[\"FECHA HECHO\"].apply(lambda x: x.year)"
   ],
   "outputs": [],
   "metadata": {}
  },
  {
   "cell_type": "code",
   "execution_count": 37,
   "source": [
    "# Analisis de datos exploratorio"
   ],
   "outputs": [],
   "metadata": {}
  },
  {
   "cell_type": "code",
   "execution_count": 38,
   "source": [
    "# Cuantas personas han sido victimas de delitos relacionados a violencia intrafamiliar?\n",
    "vfamily.CANTIDAD.sum()"
   ],
   "outputs": [
    {
     "output_type": "execute_result",
     "data": {
      "text/plain": [
       "156479"
      ]
     },
     "metadata": {},
     "execution_count": 38
    }
   ],
   "metadata": {}
  },
  {
   "cell_type": "code",
   "execution_count": 39,
   "source": [
    "# Anualmente cuantas personas padecen ese flagelo?\n",
    "pf_violencia = vfamily.groupby(['AÑO']).agg({\"CANTIDAD\":['sum']})"
   ],
   "outputs": [
    {
     "output_type": "execute_result",
     "data": {
      "text/html": [
       "<div>\n",
       "<style scoped>\n",
       "    .dataframe tbody tr th:only-of-type {\n",
       "        vertical-align: middle;\n",
       "    }\n",
       "\n",
       "    .dataframe tbody tr th {\n",
       "        vertical-align: top;\n",
       "    }\n",
       "\n",
       "    .dataframe thead tr th {\n",
       "        text-align: left;\n",
       "    }\n",
       "\n",
       "    .dataframe thead tr:last-of-type th {\n",
       "        text-align: right;\n",
       "    }\n",
       "</style>\n",
       "<table border=\"1\" class=\"dataframe\">\n",
       "  <thead>\n",
       "    <tr>\n",
       "      <th></th>\n",
       "      <th>CANTIDAD</th>\n",
       "    </tr>\n",
       "    <tr>\n",
       "      <th></th>\n",
       "      <th>sum</th>\n",
       "    </tr>\n",
       "    <tr>\n",
       "      <th>AÑO</th>\n",
       "      <th></th>\n",
       "    </tr>\n",
       "  </thead>\n",
       "  <tbody>\n",
       "    <tr>\n",
       "      <th>2010</th>\n",
       "      <td>23171</td>\n",
       "    </tr>\n",
       "    <tr>\n",
       "      <th>2011</th>\n",
       "      <td>27194</td>\n",
       "    </tr>\n",
       "    <tr>\n",
       "      <th>2012</th>\n",
       "      <td>32417</td>\n",
       "    </tr>\n",
       "    <tr>\n",
       "      <th>2013</th>\n",
       "      <td>33076</td>\n",
       "    </tr>\n",
       "    <tr>\n",
       "      <th>2014</th>\n",
       "      <td>40621</td>\n",
       "    </tr>\n",
       "  </tbody>\n",
       "</table>\n",
       "</div>"
      ],
      "text/plain": [
       "     CANTIDAD\n",
       "          sum\n",
       "AÑO          \n",
       "2010    23171\n",
       "2011    27194\n",
       "2012    32417\n",
       "2013    33076\n",
       "2014    40621"
      ]
     },
     "metadata": {},
     "execution_count": 39
    }
   ],
   "metadata": {}
  },
  {
   "cell_type": "code",
   "execution_count": 40,
   "source": [
    "sns.countplot(x=\"AÑO\", data=vfamily)"
   ],
   "outputs": [
    {
     "output_type": "execute_result",
     "data": {
      "text/plain": [
       "<AxesSubplot:xlabel='AÑO', ylabel='count'>"
      ]
     },
     "metadata": {},
     "execution_count": 40
    },
    {
     "output_type": "display_data",
     "data": {
      "image/png": "[encoded data removed]",
      "text/plain": [
       "<Figure size 432x288 with 1 Axes>"
      ]
     },
     "metadata": {
      "needs_background": "light"
     }
    }
   ],
   "metadata": {}
  },
  {
   "cell_type": "code",
   "execution_count": 199,
   "source": [
    "# Por año, que mes presento mayor numero de incidentes?\n",
    "vfamily[\"MES\"] = vfamily[\"FECHA HECHO\"].apply(lambda x: x.month)"
   ],
   "outputs": [],
   "metadata": {}
  },
  {
   "cell_type": "code",
   "execution_count": 233,
   "source": [
    "l = []\n",
    "Años = list(set(vfamily.AÑO))\n",
    "\n",
    "for A in range (len(Años)):\n",
    "    m_greater = vfamily[vfamily['AÑO'] == Años[A]].groupby(['MES'])['CANTIDAD'].sum().idxmax()\n",
    "    c_greater = vfamily[(vfamily['AÑO'] == Años[A]) & (vfamily['MES'] == m_greater)]['CANTIDAD'].sum()\n",
    "    plt.bar(Años[A], m_greater, label=c_greater)\n",
    "    #l.append({Años[A]:m_greater})\n",
    "    #print(c_greater)\n",
    "\n",
    "plt.ylabel(\"Mes\")\n",
    "plt.xlabel(\"Año\")\n",
    "plt.legend();\n"
   ],
   "outputs": [
    {
     "output_type": "display_data",
     "data": {
      "image/png": "[encoded data removed]",
      "text/plain": [
       "<Figure size 432x288 with 1 Axes>"
      ]
     },
     "metadata": {
      "needs_background": "light"
     }
    }
   ],
   "metadata": {}
  },
  {
   "cell_type": "code",
   "execution_count": 43,
   "source": [
    "# Comparativa mes a mes, discriminando los datos por el año\n",
    "sns.countplot(x=\"MES\", data=vfamily, hue=\"AÑO\")"
   ],
   "outputs": [
    {
     "output_type": "execute_result",
     "data": {
      "text/plain": [
       "<AxesSubplot:xlabel='MES', ylabel='count'>"
      ]
     },
     "metadata": {},
     "execution_count": 43
    },
    {
     "output_type": "display_data",
     "data": {
      "image/png": "[encoded data removed]",
      "text/plain": [
       "<Figure size 432x288 with 1 Axes>"
      ]
     },
     "metadata": {
      "needs_background": "light"
     }
    }
   ],
   "metadata": {}
  },
  {
   "cell_type": "code",
   "execution_count": 236,
   "source": [
    "# Cual es el tipo de arma mas usada en delitos intrafamiliares?\n",
    "sns.countplot(x='ARMAS MEDIOS', data=vfamily)\n",
    "plt.xticks(rotation=90);"
   ],
   "outputs": [
    {
     "output_type": "display_data",
     "data": {
      "image/png": "[encoded data removed]",
      "text/plain": [
       "<Figure size 432x288 with 1 Axes>"
      ]
     },
     "metadata": {
      "needs_background": "light"
     }
    }
   ],
   "metadata": {}
  },
  {
   "cell_type": "code",
   "execution_count": 243,
   "source": [
    "# Cual es el grupo etario mas afectado?\n",
    "sns.countplot(x='GRUPO ETARIO', data=vfamily)"
   ],
   "outputs": [
    {
     "output_type": "execute_result",
     "data": {
      "text/plain": [
       "<AxesSubplot:xlabel='GRUPO ETARIO', ylabel='count'>"
      ]
     },
     "metadata": {},
     "execution_count": 243
    },
    {
     "output_type": "display_data",
     "data": {
      "image/png": "[encoded data removed]",
      "text/plain": [
       "<Figure size 432x288 with 1 Axes>"
      ]
     },
     "metadata": {
      "needs_background": "light"
     }
    }
   ],
   "metadata": {}
  },
  {
   "cell_type": "code",
   "execution_count": 238,
   "source": [
    "#"
   ],
   "outputs": [
    {
     "output_type": "execute_result",
     "data": {
      "text/plain": [
       "Index(['DEPARTAMENTO', 'MUNICIPIO', 'CODIGO DANE', 'ARMAS MEDIOS',\n",
       "       'FECHA HECHO', 'GENERO', 'GRUPO ETARIO', 'CANTIDAD', 'AÑO', 'MES'],\n",
       "      dtype='object')"
      ]
     },
     "metadata": {},
     "execution_count": 238
    }
   ],
   "metadata": {}
  },
  {
   "cell_type": "code",
   "execution_count": 244,
   "source": [
    "# Cual es el grupo etario mas afectado, discriminado por genero?\n",
    "sns.countplot(x='GRUPO ETARIO', data=vfamily, hue='GENERO')"
   ],
   "outputs": [
    {
     "output_type": "execute_result",
     "data": {
      "text/plain": [
       "<AxesSubplot:xlabel='GRUPO ETARIO', ylabel='count'>"
      ]
     },
     "metadata": {},
     "execution_count": 244
    },
    {
     "output_type": "display_data",
     "data": {
      "image/png": "[encoded data removed]",
      "text/plain": [
       "<Figure size 432x288 with 1 Axes>"
      ]
     },
     "metadata": {
      "needs_background": "light"
     }
    }
   ],
   "metadata": {}
  },
  {
   "cell_type": "code",
   "execution_count": 249,
   "source": [
    "# Que genro se ve mas afectado con los hechos de violencia y que porcentaje representan?\n",
    "ax = sns.countplot(x='GENERO', data=vfamily)\n",
    "\n",
    "total = float(len(vfamily))\n",
    "\n",
    "for p in ax.patches:\n",
    "    height = p.get_height()\n",
    "    ax.text(p.get_x()+p.get_width()/2.,\n",
    "            height + 3,\n",
    "            '{:2.1f}%'.format(100*(height/total)),\n",
    "            ha=\"center\") "
   ],
   "outputs": [
    {
     "output_type": "display_data",
     "data": {
      "image/png": "[encoded data removed]",
      "text/plain": [
       "<Figure size 432x288 with 1 Axes>"
      ]
     },
     "metadata": {
      "needs_background": "light"
     }
    }
   ],
   "metadata": {}
  },
  {
   "cell_type": "code",
   "execution_count": 250,
   "source": [
    "# Segun datos historicos cuales fueron los dias del mes con mayores actos de violencia?\n",
    "vfamily['DIA'] = vfamily[\"FECHA HECHO\"].apply(lambda x: x.day)"
   ],
   "outputs": [],
   "metadata": {}
  },
  {
   "cell_type": "code",
   "execution_count": 254,
   "source": [
    "b_color = sns.color_palette()[0]\n",
    "sns.countplot(x='DIA', data=vfamily, color=b_color)"
   ],
   "outputs": [
    {
     "output_type": "execute_result",
     "data": {
      "text/plain": [
       "<AxesSubplot:xlabel='DIA', ylabel='count'>"
      ]
     },
     "metadata": {},
     "execution_count": 254
    },
    {
     "output_type": "display_data",
     "data": {
      "image/png": "[encoded data removed]",
      "text/plain": [
       "<Figure size 432x288 with 1 Axes>"
      ]
     },
     "metadata": {}
    }
   ],
   "metadata": {}
  },
  {
   "cell_type": "code",
   "execution_count": null,
   "source": [],
   "outputs": [],
   "metadata": {}
  }
 ],
 "metadata": {
  "orig_nbformat": 4,
  "language_info": {
   "name": "python",
   "version": "3.8.8",
   "mimetype": "text/x-python",
   "codemirror_mode": {
    "name": "ipython",
    "version": 3
   },
   "pygments_lexer": "ipython3",
   "nbconvert_exporter": "python",
   "file_extension": ".py"
  },
  "kernelspec": {
   "name": "python3",
   "display_name": "Python 3.8.8 64-bit ('base': conda)"
  },
  "interpreter": {
   "hash": "cf6c1ed42b43f2964551c921df1e7db0fddeea2daa243131c2c86ef7ee6890f5"
  }
 },
 "nbformat": 4,
 "nbformat_minor": 2
}